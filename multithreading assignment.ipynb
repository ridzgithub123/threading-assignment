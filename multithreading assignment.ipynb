{
 "cells": [
  {
   "cell_type": "code",
   "execution_count": null,
   "id": "c3daca3f-c94d-436c-8b23-67a84d97af8d",
   "metadata": {},
   "outputs": [],
   "source": [
    "#Q1 what is multithreading in python? Why is it used? Name the module used to handle threads in python \n",
    "'''\n",
    "Multithreading is a way of achieving multitasking. In multithreading, the concept of threads is used.\n",
    "threading is a module used to handle threads in python.\n",
    "'''"
   ]
  },
  {
   "cell_type": "code",
   "execution_count": null,
   "id": "007e1406-5b67-470c-b36e-f62977e09174",
   "metadata": {},
   "outputs": [],
   "source": [
    "#.Q2 why threading module used? write the use of the following functions\n",
    " #activeCount()\n",
    " #currentThread()\n",
    " #enumerate()\n",
    "'''\n",
    "threading module is used for creating, controlling and managing threads in python.\n",
    "\n",
    "1-\n",
    "The threading.active_count() is an inbuilt method of the threading module, \n",
    "it is used to return the number of Thread objects that are active at any instant.\n",
    "\n",
    "2-\n",
    "The threading.current_thread() is an inbuilt method of the threading module,\n",
    "it is used to return the current Thread object, which corresponds to the caller's thread of control.\n",
    "\n",
    "3-\n",
    "Enumerate() method adds a counter to an iterable and returns it in a form of enumerating object.\n",
    "This enumerated object can then be used directly for loops or converted into a list of tuples using the list() function.\n",
    "'''\n"
   ]
  },
  {
   "cell_type": "code",
   "execution_count": null,
   "id": "d6df7dec-3953-4d5b-b191-c9d35ee62466",
   "metadata": {},
   "outputs": [],
   "source": [
    "#Q3. Explain the following functions\n",
    " #run()\n",
    " #start()\n",
    " #join()\n",
    " #isAlive()\n",
    "'''\n",
    "1-\n",
    "The Thread.run() method is an inbuilt method of the Thread class of the threading module ,\n",
    "it is used to represent a thread's activity.\n",
    "It calls the method expressed as the target argument in the Thread object along with the positional\n",
    "and keyword arguments taken from the args and kwargs arguments, respectively. This method can also be overridden in the subclass.\n",
    "\n",
    "2-\n",
    "Starts a python thread.\n",
    "A thread is started after some fractional delta time,\n",
    "as the thread needs to be initialised before it is executed in the operating system context.\n",
    "Exceptions: When start () method is called more than once, will raise a RunTimeError.\n",
    "If required, create another instance of the child thread again start that thread.\n",
    "\n",
    "3-\n",
    "The join-calling thread may be able to clear the resources on its behalf.\n",
    "join() is a natural blocking call for the join-calling thread to continue after the called thread has terminated.\n",
    "If a python program does not join other threads, the python interpreter will still join non-daemon threads on its behalf.\n",
    "\n",
    "4-\n",
    "The .is_alive() method returns True if the thread is still running and otherwise returns False.\n",
    "'''\n"
   ]
  },
  {
   "cell_type": "code",
   "execution_count": 1,
   "id": "00e38e25-82d2-4907-9ec5-dd115fca7faa",
   "metadata": {},
   "outputs": [
    {
     "name": "stdout",
     "output_type": "stream",
     "text": [
      "Square: 100\n",
      "Cube: 1000\n",
      "Done!\n"
     ]
    }
   ],
   "source": [
    "#Q4.Write a python program to create two threads. Thread one must print the list of squares and thread\n",
    "#two must print the list of cubes\n",
    "\n",
    "import threading\n",
    "\n",
    "\n",
    "def print_cube(num):\n",
    "\t\n",
    "\tprint(\"Cube: {}\" .format(num * num * num))\n",
    "\n",
    "\n",
    "def print_square(num):\n",
    "\t\n",
    "\tprint(\"Square: {}\" .format(num * num))\n",
    "\n",
    "\n",
    "if __name__ ==\"__main__\":\n",
    "\t\n",
    "\tt1 = threading.Thread(target=print_square, args=(10,))\n",
    "\tt2 = threading.Thread(target=print_cube, args=(10,))\n",
    "\n",
    "\t\n",
    "\tt1.start()\n",
    "\t\n",
    "\tt2.start()\n",
    "\n",
    "\t\n",
    "\tt1.join()\n",
    "\t\n",
    "\tt2.join()\n",
    "\n",
    "\n",
    "\tprint(\"Done!\")\n"
   ]
  },
  {
   "cell_type": "code",
   "execution_count": null,
   "id": "87bce262-3717-41e0-b560-e8eaab6d3a29",
   "metadata": {},
   "outputs": [],
   "source": [
    "#Q5. State advantages and disadvantages of multithreading\n",
    "'''\n",
    "The advantages include:\n",
    "1. Since the threads are independent of each other, the user is not blocked.\n",
    "2. Since the threads do parallel execution, the resources of the device can be used efficiently.\n",
    "3. Enhance the performance of the multi-processor machines.\n",
    "4. Many of the GUIs and CPUs used in the current days include multithreading.\n",
    "\n",
    "The disadvantages are:\n",
    "1. The complexity increases with the increase in the number of threads\n",
    "2. It is necessary to maintain synchronization while sharing the resources among multiple threads\n",
    "3. It is difficult to debug the programs with threads as the result is sometimes unpredictable.\n",
    "4. The process of constructing and synchronizing the threads is CPU/memory intensive.\n",
    "\n",
    "'''"
   ]
  },
  {
   "cell_type": "code",
   "execution_count": null,
   "id": "324969de-bc75-4a3a-8472-fa8a19670580",
   "metadata": {},
   "outputs": [],
   "source": [
    "#Q6. Explain deadlocks and race conditions.\n",
    "'''\n",
    "Deadlocks and race conditions are two types of problems that can occur in concurrent programming.\n",
    "A race condition is when two or more threads access a shared variable or resource at the same time, \n",
    "and the outcome depends on the timing of their execution.This can lead to incorrect or inconsistent results. \n",
    "A deadlock is when two or more processes or threads are waiting for each other to release a resource,\n",
    "and none of them can proceed. This can lead to indefinite blocking or starvation.\n",
    "\n",
    "'''"
   ]
  }
 ],
 "metadata": {
  "kernelspec": {
   "display_name": "Python 3 (ipykernel)",
   "language": "python",
   "name": "python3"
  },
  "language_info": {
   "codemirror_mode": {
    "name": "ipython",
    "version": 3
   },
   "file_extension": ".py",
   "mimetype": "text/x-python",
   "name": "python",
   "nbconvert_exporter": "python",
   "pygments_lexer": "ipython3",
   "version": "3.10.8"
  }
 },
 "nbformat": 4,
 "nbformat_minor": 5
}
